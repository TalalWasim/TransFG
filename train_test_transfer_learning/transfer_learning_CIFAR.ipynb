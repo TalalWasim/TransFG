{
 "cells": [
  {
   "cell_type": "code",
   "execution_count": 1,
   "metadata": {},
   "outputs": [],
   "source": [
    "from __future__ import print_function\n",
    "\n",
    "import tensorflow as tf\n",
    "import tensorflow.keras\n",
    "from tensorflow.keras.datasets import cifar10\n",
    "from tensorflow.keras.models import Sequential\n",
    "from tensorflow.keras.layers import Dense, Dropout, Conv2D, MaxPooling2D, Flatten, GlobalMaxPooling2D, Lambda, UpSampling2D, BatchNormalization\n",
    "from tensorflow.keras.optimizers import RMSprop, Adam, SGD\n",
    "from tensorflow.keras.callbacks import EarlyStopping\n",
    "from tensorflow.keras.applications import EfficientNetB0\n",
    "\n",
    "import matplotlib.pyplot as plt\n",
    "import numpy as np"
   ]
  },
  {
   "cell_type": "code",
   "execution_count": 2,
   "metadata": {},
   "outputs": [
    {
     "name": "stdout",
     "output_type": "stream",
     "text": [
      "tensorflow: 2.4.1\n",
      "keras: 2.4.0\n"
     ]
    }
   ],
   "source": [
    "print('tensorflow:', tf.__version__)\n",
    "print('keras:', tensorflow.keras.__version__)\n",
    "\n",
    "##Uncomment the following two lines if you get CUDNN_STATUS_INTERNAL_ERROR initialization errors.\n",
    "## (it happens on RTX 2060 on room 104/moneo or room 204/lautrec) \n",
    "##physical_devices = tf.config.experimental.list_physical_devices('GPU')\n",
    "##tf.config.experimental.set_memory_growth(physical_devices[0], True)"
   ]
  },
  {
   "cell_type": "code",
   "execution_count": 3,
   "metadata": {},
   "outputs": [
    {
     "name": "stdout",
     "output_type": "stream",
     "text": [
      "Downloading data from https://www.cs.toronto.edu/~kriz/cifar-10-python.tar.gz\n",
      "170500096/170498071 [==============================] - 96s 1us/step\n"
     ]
    }
   ],
   "source": [
    "#load (first download if necessary) the CIFAR10 dataset\n",
    "# data is already split in train and test datasets\n",
    "(x_train, y_train), (x_test, y_test) = cifar10.load_data()\n",
    "x_train = x_train.astype('float32')\n",
    "x_test = x_test.astype('float32')\n",
    "\n",
    "\n",
    "x_train = (x_train / 255) - 0.5\n",
    "x_test = (x_test / 255) - 0.5\n",
    "\n",
    "# One hot encode\n",
    "y_train = tf.keras.utils.to_categorical(y_train)\n",
    "y_test = tf.keras.utils.to_categorical(y_test)"
   ]
  },
  {
   "cell_type": "code",
   "execution_count": 5,
   "metadata": {},
   "outputs": [],
   "source": [
    "####--------  PARAMETERS --------####\n",
    "\n",
    "model_name = \"resnet_frozen_layers\"\n",
    "results_path = \"results/transfer_learning\"\n",
    "\n",
    "learning_rate = 0.001\n",
    "num_epochs = 10\n",
    "val_split = 0.2\n",
    "batch = 64\n",
    "input_shape = x_train.shape[1:]\n",
    "num_classes = y_train.shape[1]\n",
    "num_samples = y_train.shape[0]"
   ]
  },
  {
   "cell_type": "code",
   "execution_count": 6,
   "metadata": {},
   "outputs": [],
   "source": [
    "####-------- PROCESS DATA ACCORDING TO BACKBONE --------####\n",
    "\n",
    "x_train = tf.keras.applications.efficientnet.preprocess_input(x_train)\n",
    "x_test = tf.keras.applications.efficientnet.preprocess_input(x_test)"
   ]
  },
  {
   "cell_type": "code",
   "execution_count": 7,
   "metadata": {},
   "outputs": [
    {
     "name": "stdout",
     "output_type": "stream",
     "text": [
      "Downloading data from https://storage.googleapis.com/keras-applications/efficientnetb0_notop.h5\n",
      "16711680/16705208 [==============================] - 4s 0us/step\n"
     ]
    }
   ],
   "source": [
    "####-------- MODEL DEFINITION --------####\n",
    "\n",
    "conv_base = EfficientNetB0(weights='imagenet', include_top=False,\n",
    "                           pooling='avg', input_shape=(256,256,3))\n",
    "\n",
    "for layer in conv_base.layers:\n",
    "    if isinstance(layer, BatchNormalization):\n",
    "        layer.trainable = True\n",
    "    else:\n",
    "        layer.trainable = False\n",
    "\n",
    "model = Sequential()\n",
    "model.add(UpSampling2D())\n",
    "model.add(UpSampling2D())\n",
    "model.add(UpSampling2D())\n",
    "model.add(conv_base)\n",
    "model.add(Dense(256, activation='relu'))\n",
    "model.add(Dropout(0.25))\n",
    "model.add(BatchNormalization())\n",
    "model.add(Dense(10, activation=\"softmax\"))\n",
    "\n",
    "opt = Adam(learning_rate = learning_rate)\n",
    "model.compile(optimizer = opt, loss = 'categorical_crossentropy',\n",
    "              metrics = ['accuracy'])"
   ]
  },
  {
   "cell_type": "code",
   "execution_count": 8,
   "metadata": {},
   "outputs": [
    {
     "name": "stdout",
     "output_type": "stream",
     "text": [
      "Epoch 1/10\n",
      "625/625 [==============================] - 128s 197ms/step - loss: 1.0805 - accuracy: 0.6416 - val_loss: 1.2948 - val_accuracy: 0.5680\n",
      "Epoch 2/10\n",
      "625/625 [==============================] - 122s 195ms/step - loss: 0.3917 - accuracy: 0.8656 - val_loss: 0.2556 - val_accuracy: 0.9108\n",
      "Epoch 3/10\n",
      "625/625 [==============================] - 122s 196ms/step - loss: 0.2747 - accuracy: 0.9043 - val_loss: 0.2213 - val_accuracy: 0.9222\n",
      "Epoch 4/10\n",
      "625/625 [==============================] - 122s 196ms/step - loss: 0.2188 - accuracy: 0.9269 - val_loss: 0.2190 - val_accuracy: 0.9244\n",
      "Epoch 5/10\n",
      "625/625 [==============================] - 122s 196ms/step - loss: 0.1674 - accuracy: 0.9421 - val_loss: 0.1859 - val_accuracy: 0.9389\n",
      "Epoch 6/10\n",
      "625/625 [==============================] - 122s 196ms/step - loss: 0.1418 - accuracy: 0.9491 - val_loss: 0.1827 - val_accuracy: 0.9425\n",
      "Epoch 7/10\n",
      "625/625 [==============================] - 122s 196ms/step - loss: 0.1293 - accuracy: 0.9563 - val_loss: 0.1982 - val_accuracy: 0.9326\n",
      "Epoch 8/10\n",
      "625/625 [==============================] - 122s 196ms/step - loss: 0.1102 - accuracy: 0.9613 - val_loss: 0.2026 - val_accuracy: 0.9356\n",
      "Epoch 9/10\n",
      "625/625 [==============================] - 122s 196ms/step - loss: 0.0957 - accuracy: 0.9655 - val_loss: 0.1716 - val_accuracy: 0.9454\n",
      "Epoch 10/10\n",
      "625/625 [==============================] - 122s 196ms/step - loss: 0.0861 - accuracy: 0.9700 - val_loss: 0.1735 - val_accuracy: 0.9462\n"
     ]
    }
   ],
   "source": [
    "####-------- TRAINING --------####\n",
    "\n",
    "earlyStopping = EarlyStopping(monitor='val_loss',\n",
    "                              patience=20,\n",
    "                              verbose=0,\n",
    "                              mode='min',\n",
    "                              restore_best_weights=True)\n",
    "\n",
    "history = model.fit(x_train, y_train, validation_split = val_split,\n",
    "                    epochs = num_epochs, callbacks =[earlyStopping],\n",
    "                    batch_size = batch)"
   ]
  },
  {
   "cell_type": "code",
   "execution_count": 9,
   "metadata": {},
   "outputs": [
    {
     "name": "stdout",
     "output_type": "stream",
     "text": [
      "0.9815800189971924 0.9387999773025513\n"
     ]
    }
   ],
   "source": [
    "####-------- EVALUATION ACCURACY --------####\n",
    "\n",
    "_, train_acc = model.evaluate(x_train, y_train, verbose=0)\n",
    "_, test_acc = model.evaluate(x_test, y_test, verbose=0)\n",
    "\n",
    "print(train_acc, test_acc)"
   ]
  },
  {
   "cell_type": "code",
   "execution_count": null,
   "metadata": {},
   "outputs": [],
   "source": []
  }
 ],
 "metadata": {
  "kernelspec": {
   "display_name": "tf-gpu",
   "language": "python",
   "name": "tf-gpu"
  },
  "language_info": {
   "codemirror_mode": {
    "name": "ipython",
    "version": 3
   },
   "file_extension": ".py",
   "mimetype": "text/x-python",
   "name": "python",
   "nbconvert_exporter": "python",
   "pygments_lexer": "ipython3",
   "version": "3.7.10"
  }
 },
 "nbformat": 4,
 "nbformat_minor": 4
}
