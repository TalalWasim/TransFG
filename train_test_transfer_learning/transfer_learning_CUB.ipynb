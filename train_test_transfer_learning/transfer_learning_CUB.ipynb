{
 "cells": [
  {
   "cell_type": "code",
   "execution_count": 1,
   "metadata": {},
   "outputs": [],
   "source": [
    "from __future__ import print_function\n",
    "\n",
    "import tensorflow as tf\n",
    "import tensorflow.keras\n",
    "from tensorflow.keras.datasets import cifar10\n",
    "from tensorflow.keras.models import Sequential\n",
    "from tensorflow.keras.layers import Dense, Dropout, Conv2D, MaxPooling2D, Flatten, GlobalMaxPooling2D, Lambda, UpSampling2D, BatchNormalization\n",
    "from tensorflow.keras.optimizers import RMSprop, Adam, SGD\n",
    "from tensorflow.keras.callbacks import EarlyStopping, LearningRateScheduler\n",
    "from tensorflow.keras.applications import EfficientNetB2\n",
    "from tensorflow.keras.preprocessing.image import load_img\n",
    "\n",
    "import matplotlib.pyplot as plt\n",
    "import numpy as np\n",
    "from PIL import Image\n",
    "from tqdm import tqdm\n",
    "import os\n",
    "import csv\n",
    "import os\n",
    "import pickle\n",
    "\n",
    "%matplotlib inline"
   ]
  },
  {
   "cell_type": "code",
   "execution_count": 2,
   "metadata": {},
   "outputs": [],
   "source": [
    "new_size = 260\n",
    "\n",
    "folder = 'CUB_200_2011'\n",
    "images_folder = os.path.join(folder, 'images')\n",
    "\n",
    "images_file = os.path.join(folder, 'images.txt')\n",
    "split_file = os.path.join(folder, 'train_test_split.txt')\n",
    "labels_file = os.path.join(folder, 'image_class_labels.txt')\n",
    "classes_file = os.path.join(folder, 'classes.txt')"
   ]
  },
  {
   "cell_type": "code",
   "execution_count": 3,
   "metadata": {},
   "outputs": [],
   "source": [
    "images = dict()\n",
    "\n",
    "with open(images_file, 'r') as f:\n",
    "    data = f.read()\n",
    "data = data.strip().split('\\n')\n",
    "\n",
    "for line in data:\n",
    "    num, name = line.split(' ')\n",
    "    num = int(num)\n",
    "    images[num] = name"
   ]
  },
  {
   "cell_type": "code",
   "execution_count": 4,
   "metadata": {},
   "outputs": [],
   "source": [
    "splits = dict()\n",
    "\n",
    "with open(split_file, 'r') as f:\n",
    "    data = f.read()\n",
    "data = data.strip().split('\\n')\n",
    "\n",
    "for line in data:\n",
    "    num, split = line.split(' ')\n",
    "    num = int(num)\n",
    "    split = int(split)\n",
    "    splits[num] = split"
   ]
  },
  {
   "cell_type": "code",
   "execution_count": 5,
   "metadata": {},
   "outputs": [],
   "source": [
    "train_images = dict()\n",
    "test_images = dict()\n",
    "\n",
    "for key in images:\n",
    "    if splits[key] == 1:\n",
    "        train_images[key] = images[key]\n",
    "    else:\n",
    "        test_images[key] = images[key]"
   ]
  },
  {
   "cell_type": "code",
   "execution_count": 6,
   "metadata": {},
   "outputs": [],
   "source": [
    "labels = dict()\n",
    "with open(labels_file, 'r') as f:\n",
    "    data = f.read()\n",
    "data = data.strip().split('\\n')\n",
    "\n",
    "for line in data:\n",
    "    num, label = line.split(' ')\n",
    "    num = int(num)\n",
    "    label = int(label)\n",
    "    labels[num] = label"
   ]
  },
  {
   "cell_type": "code",
   "execution_count": 7,
   "metadata": {},
   "outputs": [],
   "source": [
    "x_train = np.zeros((len(train_images), new_size, new_size, 3),np.float32)\n",
    "x_test = np.zeros((len(test_images), new_size, new_size, 3),np.float32)\n",
    "y_train = np.zeros(len(train_images), np.float32)\n",
    "y_test = np.zeros(len(test_images), np.float32)"
   ]
  },
  {
   "cell_type": "code",
   "execution_count": 8,
   "metadata": {},
   "outputs": [
    {
     "name": "stderr",
     "output_type": "stream",
     "text": [
      "100%|██████████| 19492/19492 [01:09<00:00, 282.33it/s]\n",
      "100%|██████████| 4874/4874 [00:17<00:00, 281.74it/s]\n"
     ]
    }
   ],
   "source": [
    "for i, key in enumerate(tqdm(train_images)):\n",
    "    x = Image.open(os.path.join(images_folder, train_images[key])).convert('RGB').resize((new_size, new_size), Image.ANTIALIAS)\n",
    "    x = np.array(x).astype('float32')\n",
    "    x_train[i,:,:,:] = x\n",
    "    \n",
    "    y_train[i] = labels[key] - 1\n",
    "\n",
    "for i, key in enumerate(tqdm(test_images)):\n",
    "    x = Image.open(os.path.join(images_folder, test_images[key])).convert('RGB').resize((new_size, new_size), Image.ANTIALIAS)\n",
    "    x = np.array(x).astype('float32')\n",
    "    x_test[i,:,:,:] = x\n",
    "    \n",
    "    y_test[i] = labels[key] - 1"
   ]
  },
  {
   "cell_type": "code",
   "execution_count": 9,
   "metadata": {},
   "outputs": [],
   "source": [
    "x_train = x_train/255\n",
    "x_test = x_test/255\n",
    "y_train = tf.keras.utils.to_categorical(y_train)\n",
    "y_test = tf.keras.utils.to_categorical(y_test)"
   ]
  },
  {
   "cell_type": "code",
   "execution_count": 11,
   "metadata": {},
   "outputs": [],
   "source": [
    "####--------  PARAMETERS --------####\n",
    "\n",
    "learning_rate = 0.005\n",
    "num_epochs = 50\n",
    "batch = 8\n",
    "input_shape = x_train.shape[1:]\n",
    "num_classes = y_train.shape[1]\n",
    "num_samples = y_train.shape[0]"
   ]
  },
  {
   "cell_type": "code",
   "execution_count": 12,
   "metadata": {},
   "outputs": [],
   "source": [
    "####-------- MODEL DEFINITION --------####\n",
    "\n",
    "conv_base = EfficientNetB2(weights='imagenet', include_top=False,\n",
    "                           pooling='avg', input_shape=input_shape)\n",
    "\n",
    "# for layer in conv_base.layers:\n",
    "#     if isinstance(layer, BatchNormalization):\n",
    "#         layer.trainable = True\n",
    "#     else:\n",
    "#         layer.trainable = False\n",
    "\n",
    "model = Sequential()\n",
    "model.add(conv_base)\n",
    "model.add(Dense(64, activation='relu'))\n",
    "model.add(Dropout(0.25))\n",
    "model.add(BatchNormalization())\n",
    "model.add(Dense(4, activation=\"softmax\"))\n",
    "\n",
    "opt = Adam(learning_rate = learning_rate)\n",
    "model.compile(optimizer = opt, loss = 'categorical_crossentropy',\n",
    "              metrics = ['accuracy'])"
   ]
  },
  {
   "cell_type": "code",
   "execution_count": 13,
   "metadata": {},
   "outputs": [],
   "source": [
    "####-------- TRAINING --------####\n",
    "\n",
    "def scheduler(epoch, lr):\n",
    "    if epoch < 5:\n",
    "        return lr\n",
    "    else:\n",
    "        return lr * tf.math.exp(-0.1)\n",
    "\n",
    "lrSchedule = LearningRateScheduler(scheduler)\n",
    "\n",
    "earlyStopping = EarlyStopping(monitor='val_loss',\n",
    "                              patience=10,\n",
    "                              verbose=0,\n",
    "                              mode='min',\n",
    "                              restore_best_weights=True)"
   ]
  },
  {
   "cell_type": "code",
   "execution_count": 14,
   "metadata": {},
   "outputs": [
    {
     "name": "stdout",
     "output_type": "stream",
     "text": [
      "Epoch 1/50\n",
      "2437/2437 [==============================] - 246s 98ms/step - loss: 1.1993 - accuracy: 0.5012 - val_loss: 2.3154 - val_accuracy: 0.5012\n",
      "Epoch 2/50\n",
      "2437/2437 [==============================] - 238s 98ms/step - loss: 0.8931 - accuracy: 0.6186 - val_loss: 45.8803 - val_accuracy: 0.1526\n",
      "Epoch 3/50\n",
      "2437/2437 [==============================] - 238s 98ms/step - loss: 0.8599 - accuracy: 0.6405 - val_loss: 1.4719 - val_accuracy: 0.5012\n",
      "Epoch 4/50\n",
      "2437/2437 [==============================] - 238s 98ms/step - loss: 1.0184 - accuracy: 0.5688 - val_loss: 4.7958 - val_accuracy: 0.5012\n",
      "Epoch 5/50\n",
      "2437/2437 [==============================] - 238s 98ms/step - loss: 0.7796 - accuracy: 0.6806 - val_loss: 2.3975 - val_accuracy: 0.5113\n",
      "Epoch 6/50\n",
      "2437/2437 [==============================] - 237s 97ms/step - loss: 0.7542 - accuracy: 0.6842 - val_loss: 3.0202 - val_accuracy: 0.5523\n",
      "Epoch 7/50\n",
      "2437/2437 [==============================] - 235s 96ms/step - loss: 0.7632 - accuracy: 0.6843 - val_loss: 2.1737 - val_accuracy: 0.3929\n",
      "Epoch 8/50\n",
      "2437/2437 [==============================] - 237s 97ms/step - loss: 0.6031 - accuracy: 0.7675 - val_loss: 0.6199 - val_accuracy: 0.7626\n",
      "Epoch 9/50\n",
      "2437/2437 [==============================] - 235s 97ms/step - loss: 0.5311 - accuracy: 0.8048 - val_loss: 0.9076 - val_accuracy: 0.6828\n",
      "Epoch 10/50\n",
      "2437/2437 [==============================] - 237s 97ms/step - loss: 0.4508 - accuracy: 0.8446 - val_loss: 0.9811 - val_accuracy: 0.7087\n",
      "Epoch 11/50\n",
      "2437/2437 [==============================] - 237s 97ms/step - loss: 0.4480 - accuracy: 0.8416 - val_loss: 0.6230 - val_accuracy: 0.8166\n",
      "Epoch 12/50\n",
      "2437/2437 [==============================] - 237s 97ms/step - loss: 0.4456 - accuracy: 0.8455 - val_loss: 4.5767 - val_accuracy: 0.5392\n",
      "Epoch 13/50\n",
      "2437/2437 [==============================] - 237s 97ms/step - loss: 0.4026 - accuracy: 0.8676 - val_loss: 0.7951 - val_accuracy: 0.8153\n",
      "Epoch 14/50\n",
      "2437/2437 [==============================] - 237s 97ms/step - loss: 0.4150 - accuracy: 0.8573 - val_loss: 1.1486 - val_accuracy: 0.7052\n",
      "Epoch 15/50\n",
      "2437/2437 [==============================] - 236s 97ms/step - loss: 0.3783 - accuracy: 0.8706 - val_loss: 4.0365 - val_accuracy: 0.5016\n",
      "Epoch 16/50\n",
      "2437/2437 [==============================] - 237s 97ms/step - loss: 0.3131 - accuracy: 0.8993 - val_loss: 2.7618 - val_accuracy: 0.5312\n",
      "Epoch 17/50\n",
      "2437/2437 [==============================] - 237s 97ms/step - loss: 0.2845 - accuracy: 0.9076 - val_loss: 1.4840 - val_accuracy: 0.6559\n",
      "Epoch 18/50\n",
      "2437/2437 [==============================] - 238s 97ms/step - loss: 0.2470 - accuracy: 0.9199 - val_loss: 0.2310 - val_accuracy: 0.9241\n",
      "Epoch 19/50\n",
      "2437/2437 [==============================] - 237s 97ms/step - loss: 0.2532 - accuracy: 0.9170 - val_loss: 0.1871 - val_accuracy: 0.9382\n",
      "Epoch 20/50\n",
      "2437/2437 [==============================] - 236s 97ms/step - loss: 0.2388 - accuracy: 0.9230 - val_loss: 0.1828 - val_accuracy: 0.9415\n",
      "Epoch 21/50\n",
      "2437/2437 [==============================] - 237s 97ms/step - loss: 0.2124 - accuracy: 0.9351 - val_loss: 0.4028 - val_accuracy: 0.8898\n",
      "Epoch 22/50\n",
      "2437/2437 [==============================] - 238s 98ms/step - loss: 0.2119 - accuracy: 0.9345 - val_loss: 1.7409 - val_accuracy: 0.7078\n",
      "Epoch 23/50\n",
      "2437/2437 [==============================] - 236s 97ms/step - loss: 0.1793 - accuracy: 0.9443 - val_loss: 0.1633 - val_accuracy: 0.9481\n",
      "Epoch 24/50\n",
      "2437/2437 [==============================] - 236s 97ms/step - loss: 0.1806 - accuracy: 0.9424 - val_loss: 0.9635 - val_accuracy: 0.8299\n",
      "Epoch 25/50\n",
      "2437/2437 [==============================] - 236s 97ms/step - loss: 0.1580 - accuracy: 0.9517 - val_loss: 30.8789 - val_accuracy: 0.5012\n",
      "Epoch 26/50\n",
      "2437/2437 [==============================] - 236s 97ms/step - loss: 0.1556 - accuracy: 0.9522 - val_loss: 0.1330 - val_accuracy: 0.9579\n",
      "Epoch 27/50\n",
      "2437/2437 [==============================] - 236s 97ms/step - loss: 0.1417 - accuracy: 0.9575 - val_loss: 0.4096 - val_accuracy: 0.8999\n",
      "Epoch 28/50\n",
      "2437/2437 [==============================] - 236s 97ms/step - loss: 0.1536 - accuracy: 0.9547 - val_loss: 0.2175 - val_accuracy: 0.9251\n",
      "Epoch 29/50\n",
      "2437/2437 [==============================] - 237s 97ms/step - loss: 0.1466 - accuracy: 0.9554 - val_loss: 0.2429 - val_accuracy: 0.9284\n",
      "Epoch 30/50\n",
      "2437/2437 [==============================] - 237s 97ms/step - loss: 0.1353 - accuracy: 0.9612 - val_loss: 0.1348 - val_accuracy: 0.9555\n",
      "Epoch 31/50\n",
      "2437/2437 [==============================] - 238s 98ms/step - loss: 0.1316 - accuracy: 0.9607 - val_loss: 0.1324 - val_accuracy: 0.9567\n",
      "Epoch 32/50\n",
      "2437/2437 [==============================] - 238s 97ms/step - loss: 0.1269 - accuracy: 0.9601 - val_loss: 0.1226 - val_accuracy: 0.9592\n",
      "Epoch 33/50\n",
      "2437/2437 [==============================] - 237s 97ms/step - loss: 0.1257 - accuracy: 0.9606 - val_loss: 0.1305 - val_accuracy: 0.9569\n",
      "Epoch 34/50\n",
      "2437/2437 [==============================] - 237s 97ms/step - loss: 0.1219 - accuracy: 0.9619 - val_loss: 0.1368 - val_accuracy: 0.9530\n",
      "Epoch 35/50\n",
      "2437/2437 [==============================] - 238s 97ms/step - loss: 0.1189 - accuracy: 0.9640 - val_loss: 0.1215 - val_accuracy: 0.9598\n",
      "Epoch 36/50\n",
      "2437/2437 [==============================] - 237s 97ms/step - loss: 0.1124 - accuracy: 0.9668 - val_loss: 0.1300 - val_accuracy: 0.9606\n",
      "Epoch 37/50\n",
      "2437/2437 [==============================] - 238s 97ms/step - loss: 0.1213 - accuracy: 0.9649 - val_loss: 0.2123 - val_accuracy: 0.9346\n",
      "Epoch 38/50\n",
      "2437/2437 [==============================] - 237s 97ms/step - loss: 0.1155 - accuracy: 0.9650 - val_loss: 0.1894 - val_accuracy: 0.9421\n",
      "Epoch 39/50\n",
      "2437/2437 [==============================] - 237s 97ms/step - loss: 0.1111 - accuracy: 0.9654 - val_loss: 0.2828 - val_accuracy: 0.9270\n",
      "Epoch 40/50\n",
      "2437/2437 [==============================] - 236s 97ms/step - loss: 0.1118 - accuracy: 0.9658 - val_loss: 0.1277 - val_accuracy: 0.9563\n",
      "Epoch 41/50\n",
      "2437/2437 [==============================] - 237s 97ms/step - loss: 0.1087 - accuracy: 0.9661 - val_loss: 0.1271 - val_accuracy: 0.9584\n",
      "Epoch 42/50\n",
      "2437/2437 [==============================] - 237s 97ms/step - loss: 0.1003 - accuracy: 0.9694 - val_loss: 0.1205 - val_accuracy: 0.9604\n",
      "Epoch 43/50\n",
      "2437/2437 [==============================] - 237s 97ms/step - loss: 0.1050 - accuracy: 0.9667 - val_loss: 0.1225 - val_accuracy: 0.9608\n",
      "Epoch 44/50\n",
      "2437/2437 [==============================] - 237s 97ms/step - loss: 0.1069 - accuracy: 0.9659 - val_loss: 0.1231 - val_accuracy: 0.9608\n",
      "Epoch 45/50\n",
      "2437/2437 [==============================] - 238s 98ms/step - loss: 0.0964 - accuracy: 0.9715 - val_loss: 0.1186 - val_accuracy: 0.9608\n",
      "Epoch 46/50\n",
      "2437/2437 [==============================] - 238s 97ms/step - loss: 0.0994 - accuracy: 0.9703 - val_loss: 0.2696 - val_accuracy: 0.9276\n",
      "Epoch 47/50\n",
      "2437/2437 [==============================] - 237s 97ms/step - loss: 0.0938 - accuracy: 0.9699 - val_loss: 0.1190 - val_accuracy: 0.9614\n",
      "Epoch 48/50\n",
      "2437/2437 [==============================] - 238s 98ms/step - loss: 0.1061 - accuracy: 0.9687 - val_loss: 0.1590 - val_accuracy: 0.9497\n",
      "Epoch 49/50\n",
      "2437/2437 [==============================] - 238s 97ms/step - loss: 0.0930 - accuracy: 0.9720 - val_loss: 0.1450 - val_accuracy: 0.9532\n",
      "Epoch 50/50\n",
      "2437/2437 [==============================] - 238s 98ms/step - loss: 0.0969 - accuracy: 0.9693 - val_loss: 0.1192 - val_accuracy: 0.9612\n"
     ]
    }
   ],
   "source": [
    "history = model.fit(x_train, y_train, validation_data = (x_test, y_test),\n",
    "                    epochs = num_epochs, callbacks =[earlyStopping, lrSchedule],\n",
    "                    batch_size = batch)"
   ]
  },
  {
   "cell_type": "code",
   "execution_count": null,
   "metadata": {},
   "outputs": [],
   "source": [
    "name = 'efficientNetB2_batch_8.h5'\n",
    "model.save(name)"
   ]
  },
  {
   "cell_type": "code",
   "execution_count": 15,
   "metadata": {},
   "outputs": [],
   "source": [
    "def save_obj(obj, name):\n",
    "    with open(name + '.pkl', 'wb') as f:\n",
    "        pickle.dump(obj, f, pickle.HIGHEST_PROTOCOL)\n",
    "\n",
    "def load_obj(name):\n",
    "    with open(name + '.pkl', 'rb') as f:\n",
    "        return pickle.load(f)"
   ]
  },
  {
   "cell_type": "code",
   "execution_count": 24,
   "metadata": {},
   "outputs": [],
   "source": [
    "save_obj(history.history, 'history')"
   ]
  },
  {
   "cell_type": "code",
   "execution_count": 10,
   "metadata": {},
   "outputs": [],
   "source": [
    "name = 'efficientNetB2_batch_8.h5'\n",
    "model = tf.keras.models.load_model(name)"
   ]
  },
  {
   "cell_type": "code",
   "execution_count": 12,
   "metadata": {},
   "outputs": [
    {
     "name": "stdout",
     "output_type": "stream",
     "text": [
      "0.9888672275805459\n"
     ]
    }
   ],
   "source": [
    "y_pred = model.predict(x_train)\n",
    "result = np.sum(np.argmax(y_train, axis=1) == np.argmax(y_pred, axis=1))/len(y_pred)\n",
    "print(result)"
   ]
  },
  {
   "cell_type": "code",
   "execution_count": 26,
   "metadata": {},
   "outputs": [],
   "source": [
    "data = load_obj('history')"
   ]
  },
  {
   "cell_type": "code",
   "execution_count": 27,
   "metadata": {},
   "outputs": [
    {
     "data": {
      "text/plain": [
       "dict_keys(['loss', 'accuracy', 'val_loss', 'val_accuracy', 'lr'])"
      ]
     },
     "execution_count": 27,
     "metadata": {},
     "output_type": "execute_result"
    }
   ],
   "source": [
    "data.keys()"
   ]
  },
  {
   "cell_type": "code",
   "execution_count": null,
   "metadata": {},
   "outputs": [],
   "source": []
  }
 ],
 "metadata": {
  "kernelspec": {
   "display_name": "tf-gpu",
   "language": "python",
   "name": "tf-gpu"
  },
  "language_info": {
   "codemirror_mode": {
    "name": "ipython",
    "version": 3
   },
   "file_extension": ".py",
   "mimetype": "text/x-python",
   "name": "python",
   "nbconvert_exporter": "python",
   "pygments_lexer": "ipython3",
   "version": "3.7.10"
  }
 },
 "nbformat": 4,
 "nbformat_minor": 4
}
