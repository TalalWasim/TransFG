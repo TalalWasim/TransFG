{
 "cells": [
  {
   "cell_type": "code",
   "execution_count": 1,
   "metadata": {},
   "outputs": [],
   "source": [
    "%load_ext autoreload\n",
    "%autoreload 2"
   ]
  },
  {
   "cell_type": "code",
   "execution_count": 2,
   "metadata": {},
   "outputs": [],
   "source": [
    "# coding=utf-8\n",
    "from __future__ import absolute_import, division, print_function\n",
    "\n",
    "import logging\n",
    "import argparse\n",
    "import os\n",
    "import random\n",
    "import numpy as np\n",
    "import time\n",
    "\n",
    "from datetime import timedelta\n",
    "\n",
    "import torch\n",
    "import torch.distributed as dist\n",
    "\n",
    "from tqdm import tqdm\n",
    "from torch.utils.tensorboard import SummaryWriter\n",
    "from apex import amp\n",
    "from apex.parallel import DistributedDataParallel as DDP\n",
    "\n",
    "from models.modeling import VisionTransformer, CONFIGS\n",
    "from utils.scheduler import WarmupLinearSchedule, WarmupCosineSchedule\n",
    "from utils.data_utils import get_loader\n",
    "from utils.dist_util import get_world_size\n",
    "\n",
    "from PIL import Image\n",
    "from sklearn.metrics import classification_report\n",
    "import pickle\n",
    "\n",
    "from torchvision import transforms\n",
    "from torch.utils.data import DataLoader, RandomSampler, DistributedSampler, SequentialSampler\n",
    "\n",
    "from utils.dataset import CUB, CarsDataset, NABirds, dogs, INat2017\n",
    "from utils.autoaugment import AutoAugImageNetPolicy\n",
    "\n",
    "import matplotlib.pyplot as plt\n",
    "import matplotlib as mpl\n",
    "mpl.rc('image', cmap='gray')\n",
    "\n",
    "class AverageMeter(object):\n",
    "    \"\"\"Computes and stores the average and current value\"\"\"\n",
    "    def __init__(self):\n",
    "        self.reset()\n",
    "\n",
    "    def reset(self):\n",
    "        self.val = 0\n",
    "        self.avg = 0\n",
    "        self.sum = 0\n",
    "        self.count = 0\n",
    "\n",
    "    def update(self, val, n=1):\n",
    "        self.val = val\n",
    "        self.sum += val * n\n",
    "        self.count += n\n",
    "        self.avg = self.sum / self.count\n",
    "\n",
    "def reduce_mean(tensor, nprocs):\n",
    "    rt = tensor.clone()\n",
    "    #dist.all_reduce(rt, op=dist.ReduceOp.SUM)\n",
    "    rt /= nprocs\n",
    "    return rt\n",
    "\n",
    "def simple_accuracy(preds, labels):\n",
    "    return (preds == labels).mean()\n",
    "\n",
    "def save_obj(obj, name):\n",
    "    with open(name + '.pkl', 'wb') as f:\n",
    "        pickle.dump(obj, f, pickle.HIGHEST_PROTOCOL)\n",
    "\n",
    "def load_obj(name):\n",
    "    with open(name + '.pkl', 'rb') as f:\n",
    "        return pickle.load(f)"
   ]
  },
  {
   "cell_type": "code",
   "execution_count": 3,
   "metadata": {},
   "outputs": [
    {
     "name": "stderr",
     "output_type": "stream",
     "text": [
      "/home/sw01635/anaconda3/envs/transFG/lib/python3.7/site-packages/torch/cuda/__init__.py:52: UserWarning: CUDA initialization: Unexpected error from cudaGetDeviceCount(). Did you run some cuda functions before calling NumCudaDevices() that might have already set an error? Error 804: forward compatibility was attempted on non supported HW (Triggered internally at  /opt/conda/conda-bld/pytorch_1607370156314/work/c10/cuda/CUDAFunctions.cpp:100.)\n",
      "  return torch._C._cuda_getDeviceCount() > 0\n"
     ]
    }
   ],
   "source": [
    "device = torch.device(\"cuda:0\"if torch.cuda.is_available() else \"cpu\") "
   ]
  },
  {
   "cell_type": "code",
   "execution_count": 4,
   "metadata": {},
   "outputs": [],
   "source": [
    "# setup\n",
    "model_type = 'ViT-B_16'\n",
    "name = 'serif_' + model_type.split('-')[-1] + '_long_checkpoint.bin'\n",
    "pretrained_dir = os.path.join('./pretrained_ViT', model_type + '.npz')\n",
    "pretrained_model = os.path.join('./output', name)\n",
    "dataset = 'CUB_200_2011_test'\n",
    "isTrain = False\n",
    "\n",
    "# fixed params\n",
    "data_root = 'dataset'\n",
    "split = 'overlap'\n",
    "slide_step = 12\n",
    "num_classes = 4\n",
    "img_size = 448\n",
    "smoothing_value = 0.0\n",
    "local_rank = -1\n",
    "data_root = '{}/{}'.format(data_root, dataset)\n",
    "train_batch_size = 4\n",
    "eval_batch_size = 16\n",
    "nprocs = 1"
   ]
  },
  {
   "cell_type": "code",
   "execution_count": 5,
   "metadata": {},
   "outputs": [],
   "source": [
    "def get_accuracy(model, test_loader):\n",
    "\n",
    "    eval_losses = AverageMeter()\n",
    "    model.eval()\n",
    "    all_preds, all_label = [], []\n",
    "\n",
    "    epoch_iterator = tqdm(test_loader,\n",
    "                          desc=\"Validating... (loss=X.X)\",\n",
    "                          bar_format=\"{l_bar}{r_bar}\",\n",
    "                          dynamic_ncols=True,\n",
    "                          disable=local_rank not in [-1, 0])\n",
    "    loss_fct = torch.nn.CrossEntropyLoss()\n",
    "\n",
    "    for step, batch in enumerate(epoch_iterator):\n",
    "        batch = tuple(t.to(device) for t in batch)\n",
    "        x, y = batch\n",
    "        with torch.no_grad():\n",
    "            logits = model(x)\n",
    "\n",
    "            eval_loss = loss_fct(logits, y)\n",
    "            eval_loss = eval_loss.mean()\n",
    "            eval_losses.update(eval_loss.item())\n",
    "\n",
    "            preds = torch.argmax(logits, dim=-1)\n",
    "\n",
    "        if len(all_preds) == 0:\n",
    "            all_preds.append(preds.detach().cpu().numpy())\n",
    "            all_label.append(y.detach().cpu().numpy())\n",
    "        else:\n",
    "            all_preds[0] = np.append(\n",
    "                all_preds[0], preds.detach().cpu().numpy(), axis=0\n",
    "            )\n",
    "            all_label[0] = np.append(\n",
    "                all_label[0], y.detach().cpu().numpy(), axis=0\n",
    "            )\n",
    "        epoch_iterator.set_description(\"Validating... (loss=%2.5f)\" % eval_losses.val)\n",
    "\n",
    "    all_preds_1, all_label_1 = all_preds[0], all_label[0]\n",
    "    accuracy = simple_accuracy(all_preds_1, all_label_1)\n",
    "    accuracy = torch.tensor(accuracy).to(device)\n",
    "\n",
    "    val_accuracy = reduce_mean(accuracy, nprocs)\n",
    "    val_accuracy = val_accuracy.detach().cpu().numpy()\n",
    "\n",
    "    return val_accuracy, all_preds_1, all_label_1"
   ]
  },
  {
   "cell_type": "code",
   "execution_count": 6,
   "metadata": {},
   "outputs": [
    {
     "name": "stdout",
     "output_type": "stream",
     "text": [
      "load_pretrained: resized variant: torch.Size([1, 197, 768]) to torch.Size([1, 1370, 768])\n",
      "load_pretrained: grid-size from 14 to 37\n"
     ]
    }
   ],
   "source": [
    "# Prepare model\n",
    "config = CONFIGS[model_type]\n",
    "config.split = split\n",
    "config.slide_step = slide_step\n",
    "\n",
    "model = VisionTransformer(config, img_size, zero_head=True, num_classes=num_classes,\n",
    "                          smoothing_value=smoothing_value)\n",
    "\n",
    "model.load_from(np.load(pretrained_dir))\n",
    "\n",
    "if pretrained_model is not None:\n",
    "    pretrained_model = torch.load(pretrained_model)['model']\n",
    "    model.load_state_dict(pretrained_model)\n",
    "model.to(device);"
   ]
  },
  {
   "cell_type": "code",
   "execution_count": 7,
   "metadata": {},
   "outputs": [],
   "source": [
    "test_transform=transforms.Compose([transforms.Resize((600, 600), Image.BILINEAR),\n",
    "                                   transforms.CenterCrop((448, 448)),\n",
    "                                   transforms.ToTensor(),\n",
    "                                   transforms.Normalize([0.485, 0.456, 0.406], [0.229, 0.224, 0.225])])\n",
    "\n",
    "testset = CUB(root=data_root, is_train=isTrain, transform=test_transform)\n",
    "test_sampler = SequentialSampler(testset) if local_rank == -1 else DistributedSampler(testset)\n",
    "\n",
    "test_loader = DataLoader(testset,\n",
    "                         sampler=test_sampler,\n",
    "                         batch_size=eval_batch_size,\n",
    "                         num_workers=4,\n",
    "                         pin_memory=True) if testset is not None else None"
   ]
  },
  {
   "cell_type": "code",
   "execution_count": 8,
   "metadata": {},
   "outputs": [
    {
     "name": "stderr",
     "output_type": "stream",
     "text": [
      "Validating... (loss=1.03026): 100%|| 105/105 [02:27<00:00,  1.41s/it]\n"
     ]
    }
   ],
   "source": [
    "acc, preds, labels = get_accuracy(model, test_loader)\n",
    "\n",
    "out = dict()\n",
    "out['acc'] = acc\n",
    "out['preds'] = preds\n",
    "out['labels'] = labels\n",
    "\n",
    "save_obj(out, 'TransFG_' + model_type)"
   ]
  },
  {
   "cell_type": "code",
   "execution_count": 29,
   "metadata": {},
   "outputs": [
    {
     "name": "stdout",
     "output_type": "stream",
     "text": [
      "(178, 500, 500)\n"
     ]
    }
   ],
   "source": [
    "CLASSES = ['linear', 'slab', 'sans', 'triangular']\n",
    "\n",
    "images = np.array(testset.test_img)\n",
    "\n",
    "error_indicator = preds != labels\n",
    "error_examples = images[error_indicator, :, :]"
   ]
  },
  {
   "cell_type": "code",
   "execution_count": 54,
   "metadata": {},
   "outputs": [
    {
     "data": {
      "image/png": "[encoded data removed]",
      "text/plain": [
       "<Figure size 720x720 with 20 Axes>"
      ]
     },
     "metadata": {
      "needs_background": "light"
     },
     "output_type": "display_data"
    }
   ],
   "source": [
    "cols = 5 # Number of columns\n",
    "rows = 4 # Number of rows\n",
    "\n",
    "# grab the samples from the training set\n",
    "samples_index = np.random.choice(list(range(error_examples.shape[0])), cols*rows, replace =False)\n",
    "samples = error_examples[samples_index]\n",
    "labels_true = labels[error_indicator][samples_index]\n",
    "labels_pred = preds[error_indicator][samples_index]\n",
    "\n",
    "fig = plt.figure(figsize=(2 * cols, 2 * (rows+1)))\n",
    "\n",
    "i = 0\n",
    "\n",
    "# Add subplot for each image\n",
    "for col in range(cols):\n",
    "    for row in range(rows):\n",
    "\n",
    "        ax = fig.add_subplot(rows, cols, col * rows + row + 1) # Add a sub-plot at (row, col)\n",
    "        ax.grid(b=False) # Get rid of the grids\n",
    "        ax.axis(\"off\") # Get rid of the axis\n",
    "        ax.imshow(samples[i, :]) # Show random image\n",
    "        ax.set_title('True: '+CLASSES[labels_true[i]]+'\\nPred: '+CLASSES[labels_pred[i]]) # Set title of the sub-plot\n",
    "        \n",
    "        i = i + 1\n",
    "plt.savefig('TransFG_' + model_type + '.png')"
   ]
  },
  {
   "cell_type": "code",
   "execution_count": 35,
   "metadata": {},
   "outputs": [
    {
     "name": "stdout",
     "output_type": "stream",
     "text": [
      "              precision    recall  f1-score   support\n",
      "\n",
      "           0       0.95      0.94      0.94       558\n",
      "           1       0.89      0.88      0.89       496\n",
      "           2       0.00      0.00      0.00         0\n",
      "           3       0.95      0.86      0.90       620\n",
      "\n",
      "    accuracy                           0.89      1674\n",
      "   macro avg       0.70      0.67      0.68      1674\n",
      "weighted avg       0.93      0.89      0.91      1674\n",
      "\n"
     ]
    },
    {
     "name": "stderr",
     "output_type": "stream",
     "text": [
      "/home/sw01635/anaconda3/envs/transFG/lib/python3.7/site-packages/sklearn/metrics/_classification.py:1248: UndefinedMetricWarning: Recall and F-score are ill-defined and being set to 0.0 in labels with no true samples. Use `zero_division` parameter to control this behavior.\n",
      "  _warn_prf(average, modifier, msg_start, len(result))\n",
      "/home/sw01635/anaconda3/envs/transFG/lib/python3.7/site-packages/sklearn/metrics/_classification.py:1248: UndefinedMetricWarning: Recall and F-score are ill-defined and being set to 0.0 in labels with no true samples. Use `zero_division` parameter to control this behavior.\n",
      "  _warn_prf(average, modifier, msg_start, len(result))\n",
      "/home/sw01635/anaconda3/envs/transFG/lib/python3.7/site-packages/sklearn/metrics/_classification.py:1248: UndefinedMetricWarning: Recall and F-score are ill-defined and being set to 0.0 in labels with no true samples. Use `zero_division` parameter to control this behavior.\n",
      "  _warn_prf(average, modifier, msg_start, len(result))\n"
     ]
    }
   ],
   "source": [
    "print(classification_report(labels, preds))"
   ]
  },
  {
   "cell_type": "code",
   "execution_count": null,
   "metadata": {},
   "outputs": [],
   "source": []
  }
 ],
 "metadata": {
  "kernelspec": {
   "display_name": "transFG",
   "language": "python",
   "name": "transfg"
  },
  "language_info": {
   "codemirror_mode": {
    "name": "ipython",
    "version": 3
   },
   "file_extension": ".py",
   "mimetype": "text/x-python",
   "name": "python",
   "nbconvert_exporter": "python",
   "pygments_lexer": "ipython3",
   "version": "3.7.10"
  }
 },
 "nbformat": 4,
 "nbformat_minor": 4
}
