{
 "cells": [
  {
   "cell_type": "code",
   "execution_count": 1,
   "metadata": {},
   "outputs": [],
   "source": [
    "%load_ext autoreload\n",
    "%autoreload 2"
   ]
  },
  {
   "cell_type": "code",
   "execution_count": 2,
   "metadata": {},
   "outputs": [],
   "source": [
    "# coding=utf-8\n",
    "from __future__ import absolute_import, division, print_function\n",
    "\n",
    "import logging\n",
    "import argparse\n",
    "import os\n",
    "import random\n",
    "import numpy as np\n",
    "import time\n",
    "\n",
    "from datetime import timedelta\n",
    "\n",
    "import torch\n",
    "import torch.distributed as dist\n",
    "\n",
    "from tqdm import tqdm\n",
    "from torch.utils.tensorboard import SummaryWriter\n",
    "from apex import amp\n",
    "from apex.parallel import DistributedDataParallel as DDP\n",
    "\n",
    "from models.modeling import VisionTransformer, CONFIGS\n",
    "from utils.scheduler import WarmupLinearSchedule, WarmupCosineSchedule\n",
    "from utils.data_utils import get_loader\n",
    "from utils.dist_util import get_world_size\n",
    "\n",
    "from PIL import Image\n",
    "from sklearn.metrics import classification_report\n",
    "from sklearn.manifold import TSNE\n",
    "import pickle\n",
    "\n",
    "from torchvision import transforms\n",
    "from torch.utils.data import DataLoader, RandomSampler, DistributedSampler, SequentialSampler\n",
    "\n",
    "from utils.dataset import CUB, CarsDataset, NABirds, dogs, INat2017\n",
    "from utils.autoaugment import AutoAugImageNetPolicy\n",
    "\n",
    "import matplotlib.pyplot as plt\n",
    "from matplotlib.offsetbox import OffsetImage, AnnotationBbox\n",
    "\n",
    "class AverageMeter(object):\n",
    "    \"\"\"Computes and stores the average and current value\"\"\"\n",
    "    def __init__(self):\n",
    "        self.reset()\n",
    "\n",
    "    def reset(self):\n",
    "        self.val = 0\n",
    "        self.avg = 0\n",
    "        self.sum = 0\n",
    "        self.count = 0\n",
    "\n",
    "    def update(self, val, n=1):\n",
    "        self.val = val\n",
    "        self.sum += val * n\n",
    "        self.count += n\n",
    "        self.avg = self.sum / self.count\n",
    "\n",
    "def reduce_mean(tensor, nprocs):\n",
    "    rt = tensor.clone()\n",
    "    #dist.all_reduce(rt, op=dist.ReduceOp.SUM)\n",
    "    rt /= nprocs\n",
    "    return rt\n",
    "\n",
    "def simple_accuracy(preds, labels):\n",
    "    return (preds == labels).mean()\n",
    "\n",
    "def save_obj(obj, name):\n",
    "    with open(name + '.pkl', 'wb') as f:\n",
    "        pickle.dump(obj, f, pickle.HIGHEST_PROTOCOL)\n",
    "\n",
    "def load_obj(name):\n",
    "    with open(name + '.pkl', 'rb') as f:\n",
    "        return pickle.load(f)\n",
    "\n",
    "def visualize_scatter_with_images(tsne_vec, images, save_path = None, figsize=(100,50), image_zoom=3):\n",
    "    fig, ax = plt.subplots(figsize=figsize)\n",
    "    for c, (xy, i) in enumerate(zip(tsne_vec, images)):\n",
    "        x0, y0 = xy\n",
    "        if c == 0:\n",
    "            print(\"Size of one image: \", i.shape)\n",
    "        if i.shape[0] == 1:\n",
    "            img = OffsetImage(i,zoom=image_zoom, cmap=\"gray\")\n",
    "        else:\n",
    "             img = OffsetImage(i,zoom=image_zoom)\n",
    "        ab = AnnotationBbox(img, (x0, y0), xycoords='data', frameon=False)\n",
    "        ax.add_artist(ab)\n",
    "    ax.set_axis_off()\n",
    "    ax.update_datalim(tsne_vec)\n",
    "    ax.autoscale()\n",
    "    if save_path is not None:\n",
    "        fig.savefig(save_path)\n",
    "\n",
    "def visualize_scatter_with_points(tsne_vec, labels, colors, save_path = None, figsize=(8,4)):\n",
    "    plt.figure(figsize=figsize, facecolor='white')\n",
    "    \n",
    "    unique = list(set(labels))\n",
    "    for i, u in enumerate(unique):\n",
    "        xi = [tsne_vec[j,0] for j  in range(tsne_vec.shape[0]) if labels[j] == u]\n",
    "        yi = [tsne_vec[j,1] for j  in range(tsne_vec.shape[0]) if labels[j] == u]\n",
    "        plt.scatter(xi, yi, c=colors[i], label=str(u))\n",
    "    plt.legend()\n",
    "    if save_path is not None:\n",
    "        plt.savefig(save_path)\n",
    "\n",
    "colors = ['#e6194B', '#3cb44b', '#ffe119', '#4363d8',\n",
    "          '#f58231', '#42d4f4', '#f032e6', '#fabed4',\n",
    "          '#469990', '#dcbeff', '#9A6324', '#fffac8',\n",
    "          '#800000', '#aaffc3', '#000075', '#a9a9a9']"
   ]
  },
  {
   "cell_type": "code",
   "execution_count": 3,
   "metadata": {},
   "outputs": [],
   "source": [
    "device = torch.device(\"cuda:0\"if torch.cuda.is_available() else \"cpu\") "
   ]
  },
  {
   "cell_type": "code",
   "execution_count": 8,
   "metadata": {},
   "outputs": [],
   "source": [
    "# setup\n",
    "model_type = 'ViT-B_32'\n",
    "name = 'serif_' + model_type.split('-')[-1] + '_long_checkpoint.bin'\n",
    "pretrained_dir = os.path.join('./pretrained_ViT', model_type + '.npz')\n",
    "pretrained_model = os.path.join('./output', name)\n",
    "dataset = 'CUB_200_2011'\n",
    "isTrain = True\n",
    "\n",
    "# fixed params\n",
    "data_root = 'dataset'\n",
    "split = 'overlap'\n",
    "slide_step = 12\n",
    "num_classes = 4\n",
    "img_size = 448\n",
    "smoothing_value = 0.0\n",
    "local_rank = -1\n",
    "data_root = '{}/{}'.format(data_root, dataset)\n",
    "train_batch_size = 4\n",
    "eval_batch_size = 16\n",
    "nprocs = 1\n",
    "\n",
    "# pickle name\n",
    "folder = 'saved_features'\n",
    "if isTrain:\n",
    "    data_type = 'train'\n",
    "else:\n",
    "    data_type = 'test'\n",
    "filename = 'TransFG_{}_{}_{}'.format(model_type, dataset, data_type)"
   ]
  },
  {
   "cell_type": "code",
   "execution_count": 14,
   "metadata": {},
   "outputs": [],
   "source": [
    "test_transform=transforms.Compose([transforms.Resize((600, 600), Image.BILINEAR),\n",
    "                                   transforms.CenterCrop((448, 448)),\n",
    "                                   transforms.ToTensor(),\n",
    "                                   transforms.Normalize([0.485, 0.456, 0.406], [0.229, 0.224, 0.225])])\n",
    "\n",
    "testset = CUB(root=data_root, is_train=isTrain, transform=test_transform)\n",
    "test_sampler = SequentialSampler(testset) if local_rank == -1 else DistributedSampler(testset)\n",
    "\n",
    "test_loader = DataLoader(testset,\n",
    "                         sampler=test_sampler,\n",
    "                         batch_size=eval_batch_size,\n",
    "                         num_workers=4,\n",
    "                         pin_memory=True) if testset is not None else None"
   ]
  },
  {
   "cell_type": "code",
   "execution_count": 5,
   "metadata": {},
   "outputs": [
    {
     "name": "stdout",
     "output_type": "stream",
     "text": [
      "load_pretrained: resized variant: torch.Size([1, 50, 768]) to torch.Size([1, 1226, 768])\n",
      "load_pretrained: grid-size from 7 to 35\n"
     ]
    }
   ],
   "source": [
    "# Prepare model\n",
    "config = CONFIGS[model_type]\n",
    "config.split = split\n",
    "config.slide_step = slide_step\n",
    "\n",
    "model = VisionTransformer(config, img_size, zero_head=True, num_classes=num_classes,\n",
    "                          smoothing_value=smoothing_value)\n",
    "\n",
    "model.load_from(np.load(pretrained_dir))\n",
    "\n",
    "if pretrained_model is not None:\n",
    "    pretrained_model = torch.load(pretrained_model)['model']\n",
    "    model.load_state_dict(pretrained_model)\n",
    "model.to(device);"
   ]
  },
  {
   "cell_type": "code",
   "execution_count": 7,
   "metadata": {},
   "outputs": [],
   "source": [
    "def get_features(model, testset, test_loader):\n",
    "    samples = len(testset)\n",
    "    count = 0\n",
    "    \n",
    "    images_array = np.zeros((samples, 448, 448), bool)\n",
    "    labels_array = np.zeros(samples, np.int8)\n",
    "    features_array = np.zeros((samples, 768), np.float32)\n",
    "\n",
    "    model.eval()\n",
    "    epoch_iterator = tqdm(test_loader,\n",
    "                          desc=\"Validating... \",\n",
    "                          bar_format=\"{l_bar}{r_bar}\",\n",
    "                          dynamic_ncols=True,\n",
    "                          disable=local_rank not in [-1, 0])\n",
    "\n",
    "    for step, batch in enumerate(epoch_iterator):\n",
    "        batch = tuple(t.to(device) for t in batch)\n",
    "        x, y = batch\n",
    "        with torch.no_grad():\n",
    "            output_vector = None\n",
    "\n",
    "            def feature_hook(module, input_, output):\n",
    "                nonlocal output_vector\n",
    "                output_vector = input_\n",
    "\n",
    "            a_hook = model.part_head.register_forward_hook(feature_hook)\n",
    "            logits = model(x)\n",
    "            a_hook.remove()\n",
    "            \n",
    "            images = x.detach().cpu().numpy()\n",
    "            mins = images.min(axis=(1,2,3), keepdims=True)\n",
    "            maxs = images.max(axis=(1,2,3), keepdims=True)\n",
    "            norm_data = (images-mins)/(maxs-mins)\n",
    "            norm_data = norm_data>0.5\n",
    "            norm_data = norm_data.all(axis=1)\n",
    "            \n",
    "            features = output_vector[0].detach().cpu().numpy()\n",
    "            \n",
    "            images_array[count:count+norm_data.shape[0],:,:] = norm_data\n",
    "            labels_array[count:count+norm_data.shape[0]] = y.detach().cpu().numpy()\n",
    "            features_array[count:count+features.shape[0],:] = features\n",
    "            count += images.shape[0]\n",
    "\n",
    "        epoch_iterator.set_description(\"Validating... \")\n",
    "\n",
    "    return images_array, labels_array, features_array"
   ]
  },
  {
   "cell_type": "code",
   "execution_count": null,
   "metadata": {},
   "outputs": [
    {
     "name": "stderr",
     "output_type": "stream",
     "text": [
      "Validating... :  82%|| 86/105 [01:38<00:21,  1.15s/it]"
     ]
    }
   ],
   "source": [
    "images, labels, features = get_features(model, testset, test_loader)"
   ]
  },
  {
   "cell_type": "code",
   "execution_count": null,
   "metadata": {},
   "outputs": [],
   "source": [
    "out = dict()\n",
    "out['images'] = images\n",
    "out['labels'] = labels\n",
    "out['features'] = features\n",
    "\n",
    "save_obj(out, os.path.join(folder, filename))"
   ]
  },
  {
   "cell_type": "code",
   "execution_count": 9,
   "metadata": {},
   "outputs": [],
   "source": [
    "out = load_obj(os.path.join(folder, filename))\n",
    "\n",
    "images = out['images']\n",
    "labels = out['labels']\n",
    "features = out['features']\n",
    "\n",
    "CLASSES = ['linear', 'slab', 'sans', 'triangular']\n",
    "labels_class = [CLASSES[i] for i in labels]\n",
    "img_colors = list(set([colors[i] for i in labels]))"
   ]
  },
  {
   "cell_type": "code",
   "execution_count": 10,
   "metadata": {},
   "outputs": [],
   "source": [
    "tsne = TSNE(n_jobs = -1)\n",
    "reduced = tsne.fit_transform(features)"
   ]
  },
  {
   "cell_type": "code",
   "execution_count": 11,
   "metadata": {},
   "outputs": [
    {
     "data": {
      "image/png": "[encoded data removed]",
      "text/plain": [
       "<Figure size 576x288 with 1 Axes>"
      ]
     },
     "metadata": {},
     "output_type": "display_data"
    }
   ],
   "source": [
    "visualize_scatter_with_points(reduced, labels_class, img_colors)"
   ]
  },
  {
   "cell_type": "code",
   "execution_count": 16,
   "metadata": {},
   "outputs": [
    {
     "data": {
      "text/plain": [
       "<matplotlib.image.AxesImage at 0x7fd75d37bd10>"
      ]
     },
     "execution_count": 16,
     "metadata": {},
     "output_type": "execute_result"
    },
    {
     "data": {
      "image/png": "[encoded data removed]",
      "text/plain": [
       "<Figure size 432x288 with 1 Axes>"
      ]
     },
     "metadata": {
      "needs_background": "light"
     },
     "output_type": "display_data"
    }
   ],
   "source": [
    "plt.imshow(images[123])"
   ]
  },
  {
   "cell_type": "code",
   "execution_count": null,
   "metadata": {},
   "outputs": [],
   "source": []
  }
 ],
 "metadata": {
  "kernelspec": {
   "display_name": "transFG",
   "language": "python",
   "name": "transfg"
  },
  "language_info": {
   "codemirror_mode": {
    "name": "ipython",
    "version": 3
   },
   "file_extension": ".py",
   "mimetype": "text/x-python",
   "name": "python",
   "nbconvert_exporter": "python",
   "pygments_lexer": "ipython3",
   "version": "3.7.10"
  }
 },
 "nbformat": 4,
 "nbformat_minor": 4
}
